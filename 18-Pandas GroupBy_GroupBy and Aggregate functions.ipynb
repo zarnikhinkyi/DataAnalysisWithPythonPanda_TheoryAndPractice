{
 "cells": [
  {
   "cell_type": "code",
   "execution_count": 1,
   "id": "b9655901",
   "metadata": {},
   "outputs": [],
   "source": [
    "import pandas as pd\n"
   ]
  },
  {
   "cell_type": "code",
   "execution_count": 2,
   "id": "51a80cc8",
   "metadata": {},
   "outputs": [
    {
     "data": {
      "text/html": [
       "<div>\n",
       "<style scoped>\n",
       "    .dataframe tbody tr th:only-of-type {\n",
       "        vertical-align: middle;\n",
       "    }\n",
       "\n",
       "    .dataframe tbody tr th {\n",
       "        vertical-align: top;\n",
       "    }\n",
       "\n",
       "    .dataframe thead th {\n",
       "        text-align: right;\n",
       "    }\n",
       "</style>\n",
       "<table border=\"1\" class=\"dataframe\">\n",
       "  <thead>\n",
       "    <tr style=\"text-align: right;\">\n",
       "      <th></th>\n",
       "      <th>City</th>\n",
       "      <th>Temp</th>\n",
       "      <th>Humidity</th>\n",
       "    </tr>\n",
       "  </thead>\n",
       "  <tbody>\n",
       "    <tr>\n",
       "      <th>0</th>\n",
       "      <td>Ahmedabad</td>\n",
       "      <td>40</td>\n",
       "      <td>32</td>\n",
       "    </tr>\n",
       "    <tr>\n",
       "      <th>1</th>\n",
       "      <td>Baroda</td>\n",
       "      <td>35</td>\n",
       "      <td>34</td>\n",
       "    </tr>\n",
       "    <tr>\n",
       "      <th>2</th>\n",
       "      <td>Anand</td>\n",
       "      <td>32</td>\n",
       "      <td>23</td>\n",
       "    </tr>\n",
       "    <tr>\n",
       "      <th>3</th>\n",
       "      <td>Ahmedabad</td>\n",
       "      <td>45</td>\n",
       "      <td>24</td>\n",
       "    </tr>\n",
       "    <tr>\n",
       "      <th>4</th>\n",
       "      <td>Baroda</td>\n",
       "      <td>37</td>\n",
       "      <td>27</td>\n",
       "    </tr>\n",
       "    <tr>\n",
       "      <th>5</th>\n",
       "      <td>Anand</td>\n",
       "      <td>34</td>\n",
       "      <td>32</td>\n",
       "    </tr>\n",
       "  </tbody>\n",
       "</table>\n",
       "</div>"
      ],
      "text/plain": [
       "        City  Temp  Humidity\n",
       "0  Ahmedabad    40        32\n",
       "1     Baroda    35        34\n",
       "2      Anand    32        23\n",
       "3  Ahmedabad    45        24\n",
       "4     Baroda    37        27\n",
       "5      Anand    34        32"
      ]
     },
     "execution_count": 2,
     "metadata": {},
     "output_type": "execute_result"
    }
   ],
   "source": [
    "dict={'City':['Ahmedabad','Baroda','Anand','Ahmedabad','Baroda','Anand'],\n",
    "     'Temp':[40,35,32,45,37,34],\n",
    "     'Humidity':[32,34,23,24,27,32]}\n",
    "data=pd.DataFrame(dict)\n",
    "data"
   ]
  },
  {
   "cell_type": "markdown",
   "id": "0f3c07b0",
   "metadata": {},
   "source": [
    "# 1. Display Average Temperature."
   ]
  },
  {
   "cell_type": "code",
   "execution_count": 3,
   "id": "2b313420",
   "metadata": {},
   "outputs": [
    {
     "data": {
      "text/plain": [
       "37.166666666666664"
      ]
     },
     "execution_count": 3,
     "metadata": {},
     "output_type": "execute_result"
    }
   ],
   "source": [
    "data['Temp'].mean()"
   ]
  },
  {
   "cell_type": "markdown",
   "id": "67c34910",
   "metadata": {},
   "source": [
    "# 2. Display Average Temperature CityWise.\n"
   ]
  },
  {
   "cell_type": "code",
   "execution_count": 5,
   "id": "5b79c8c7",
   "metadata": {},
   "outputs": [
    {
     "data": {
      "text/plain": [
       "City\n",
       "Ahmedabad    42.5\n",
       "Anand        33.0\n",
       "Baroda       36.0\n",
       "Name: Temp, dtype: float64"
      ]
     },
     "execution_count": 5,
     "metadata": {},
     "output_type": "execute_result"
    }
   ],
   "source": [
    "grp=data.groupby('City')['Temp'].mean()\n",
    "grp"
   ]
  },
  {
   "cell_type": "markdown",
   "id": "bdad9fe8",
   "metadata": {},
   "source": [
    "# 3. Display All The Groups [ Iterate Over The Groups ]."
   ]
  },
  {
   "cell_type": "code",
   "execution_count": 6,
   "id": "9ef7f768",
   "metadata": {},
   "outputs": [
    {
     "data": {
      "text/plain": [
       "<pandas.core.groupby.generic.DataFrameGroupBy object at 0x000002DCFE917460>"
      ]
     },
     "execution_count": 6,
     "metadata": {},
     "output_type": "execute_result"
    }
   ],
   "source": [
    "grp=data.groupby('City')\n",
    "grp  ## data frame's groupby object is created"
   ]
  },
  {
   "cell_type": "code",
   "execution_count": 7,
   "id": "0f038d78",
   "metadata": {},
   "outputs": [
    {
     "name": "stdout",
     "output_type": "stream",
     "text": [
      "Ahmedabad\n",
      "        City  Temp  Humidity\n",
      "0  Ahmedabad    40        32\n",
      "3  Ahmedabad    45        24\n",
      "Anand\n",
      "    City  Temp  Humidity\n",
      "2  Anand    32        23\n",
      "5  Anand    34        32\n",
      "Baroda\n",
      "     City  Temp  Humidity\n",
      "1  Baroda    35        34\n",
      "4  Baroda    37        27\n"
     ]
    }
   ],
   "source": [
    "for key,value in grp:\n",
    "    print(key)\n",
    "    print(value)"
   ]
  },
  {
   "cell_type": "markdown",
   "id": "f7f7b71e",
   "metadata": {},
   "source": [
    "# 4. Display The Indices In Each Group."
   ]
  },
  {
   "cell_type": "code",
   "execution_count": 8,
   "id": "eec41fa7",
   "metadata": {},
   "outputs": [
    {
     "data": {
      "text/plain": [
       "{'Ahmedabad': [0, 3], 'Anand': [2, 5], 'Baroda': [1, 4]}"
      ]
     },
     "execution_count": 8,
     "metadata": {},
     "output_type": "execute_result"
    }
   ],
   "source": [
    "## groups is attribute of grp objects, groups is not a method\n",
    "grp.groups"
   ]
  },
  {
   "cell_type": "markdown",
   "id": "c9aa4eb6",
   "metadata": {},
   "source": [
    "# 5. Display The First Entry In All The Groups Formed."
   ]
  },
  {
   "cell_type": "code",
   "execution_count": 11,
   "id": "894406d7",
   "metadata": {},
   "outputs": [
    {
     "data": {
      "text/plain": [
       "<pandas.core.groupby.generic.DataFrameGroupBy object at 0x000002DC80C8FD60>"
      ]
     },
     "execution_count": 11,
     "metadata": {},
     "output_type": "execute_result"
    }
   ],
   "source": [
    "grp=data.groupby('City')\n",
    "grp"
   ]
  },
  {
   "cell_type": "code",
   "execution_count": 12,
   "id": "a1a5d073",
   "metadata": {
    "scrolled": true
   },
   "outputs": [
    {
     "data": {
      "text/html": [
       "<div>\n",
       "<style scoped>\n",
       "    .dataframe tbody tr th:only-of-type {\n",
       "        vertical-align: middle;\n",
       "    }\n",
       "\n",
       "    .dataframe tbody tr th {\n",
       "        vertical-align: top;\n",
       "    }\n",
       "\n",
       "    .dataframe thead th {\n",
       "        text-align: right;\n",
       "    }\n",
       "</style>\n",
       "<table border=\"1\" class=\"dataframe\">\n",
       "  <thead>\n",
       "    <tr style=\"text-align: right;\">\n",
       "      <th></th>\n",
       "      <th>Temp</th>\n",
       "      <th>Humidity</th>\n",
       "    </tr>\n",
       "    <tr>\n",
       "      <th>City</th>\n",
       "      <th></th>\n",
       "      <th></th>\n",
       "    </tr>\n",
       "  </thead>\n",
       "  <tbody>\n",
       "    <tr>\n",
       "      <th>Ahmedabad</th>\n",
       "      <td>40</td>\n",
       "      <td>32</td>\n",
       "    </tr>\n",
       "    <tr>\n",
       "      <th>Anand</th>\n",
       "      <td>32</td>\n",
       "      <td>23</td>\n",
       "    </tr>\n",
       "    <tr>\n",
       "      <th>Baroda</th>\n",
       "      <td>35</td>\n",
       "      <td>34</td>\n",
       "    </tr>\n",
       "  </tbody>\n",
       "</table>\n",
       "</div>"
      ],
      "text/plain": [
       "           Temp  Humidity\n",
       "City                     \n",
       "Ahmedabad    40        32\n",
       "Anand        32        23\n",
       "Baroda       35        34"
      ]
     },
     "execution_count": 12,
     "metadata": {},
     "output_type": "execute_result"
    }
   ],
   "source": [
    "grp.first()"
   ]
  },
  {
   "cell_type": "code",
   "execution_count": 13,
   "id": "6c613eb2",
   "metadata": {},
   "outputs": [
    {
     "data": {
      "text/html": [
       "<div>\n",
       "<style scoped>\n",
       "    .dataframe tbody tr th:only-of-type {\n",
       "        vertical-align: middle;\n",
       "    }\n",
       "\n",
       "    .dataframe tbody tr th {\n",
       "        vertical-align: top;\n",
       "    }\n",
       "\n",
       "    .dataframe thead th {\n",
       "        text-align: right;\n",
       "    }\n",
       "</style>\n",
       "<table border=\"1\" class=\"dataframe\">\n",
       "  <thead>\n",
       "    <tr style=\"text-align: right;\">\n",
       "      <th></th>\n",
       "      <th>Temp</th>\n",
       "      <th>Humidity</th>\n",
       "    </tr>\n",
       "    <tr>\n",
       "      <th>City</th>\n",
       "      <th></th>\n",
       "      <th></th>\n",
       "    </tr>\n",
       "  </thead>\n",
       "  <tbody>\n",
       "    <tr>\n",
       "      <th>Ahmedabad</th>\n",
       "      <td>45</td>\n",
       "      <td>24</td>\n",
       "    </tr>\n",
       "    <tr>\n",
       "      <th>Anand</th>\n",
       "      <td>34</td>\n",
       "      <td>32</td>\n",
       "    </tr>\n",
       "    <tr>\n",
       "      <th>Baroda</th>\n",
       "      <td>37</td>\n",
       "      <td>27</td>\n",
       "    </tr>\n",
       "  </tbody>\n",
       "</table>\n",
       "</div>"
      ],
      "text/plain": [
       "           Temp  Humidity\n",
       "City                     \n",
       "Ahmedabad    45        24\n",
       "Anand        34        32\n",
       "Baroda       37        27"
      ]
     },
     "execution_count": 13,
     "metadata": {},
     "output_type": "execute_result"
    }
   ],
   "source": [
    "grp.last()"
   ]
  },
  {
   "cell_type": "markdown",
   "id": "fbe371e0",
   "metadata": {},
   "source": [
    "# 6. Count The Number of Entries In Each Group."
   ]
  },
  {
   "cell_type": "code",
   "execution_count": 15,
   "id": "87deb49a",
   "metadata": {},
   "outputs": [
    {
     "data": {
      "text/plain": [
       "City\n",
       "Ahmedabad    2\n",
       "Anand        2\n",
       "Baroda       2\n",
       "dtype: int64"
      ]
     },
     "execution_count": 15,
     "metadata": {},
     "output_type": "execute_result"
    }
   ],
   "source": [
    "grp.size()"
   ]
  },
  {
   "cell_type": "markdown",
   "id": "6bdc3a96",
   "metadata": {},
   "source": [
    "# 7. Display A Specific Group Out of All The Groups."
   ]
  },
  {
   "cell_type": "code",
   "execution_count": 17,
   "id": "019fe833",
   "metadata": {},
   "outputs": [
    {
     "data": {
      "text/html": [
       "<div>\n",
       "<style scoped>\n",
       "    .dataframe tbody tr th:only-of-type {\n",
       "        vertical-align: middle;\n",
       "    }\n",
       "\n",
       "    .dataframe tbody tr th {\n",
       "        vertical-align: top;\n",
       "    }\n",
       "\n",
       "    .dataframe thead th {\n",
       "        text-align: right;\n",
       "    }\n",
       "</style>\n",
       "<table border=\"1\" class=\"dataframe\">\n",
       "  <thead>\n",
       "    <tr style=\"text-align: right;\">\n",
       "      <th></th>\n",
       "      <th>City</th>\n",
       "      <th>Temp</th>\n",
       "      <th>Humidity</th>\n",
       "    </tr>\n",
       "  </thead>\n",
       "  <tbody>\n",
       "    <tr>\n",
       "      <th>0</th>\n",
       "      <td>Ahmedabad</td>\n",
       "      <td>40</td>\n",
       "      <td>32</td>\n",
       "    </tr>\n",
       "    <tr>\n",
       "      <th>3</th>\n",
       "      <td>Ahmedabad</td>\n",
       "      <td>45</td>\n",
       "      <td>24</td>\n",
       "    </tr>\n",
       "  </tbody>\n",
       "</table>\n",
       "</div>"
      ],
      "text/plain": [
       "        City  Temp  Humidity\n",
       "0  Ahmedabad    40        32\n",
       "3  Ahmedabad    45        24"
      ]
     },
     "execution_count": 17,
     "metadata": {},
     "output_type": "execute_result"
    }
   ],
   "source": [
    "grp = data.groupby('City')\n",
    "grp.get_group('Ahmedabad')"
   ]
  },
  {
   "cell_type": "code",
   "execution_count": 18,
   "id": "58334fbf",
   "metadata": {},
   "outputs": [
    {
     "data": {
      "text/html": [
       "<div>\n",
       "<style scoped>\n",
       "    .dataframe tbody tr th:only-of-type {\n",
       "        vertical-align: middle;\n",
       "    }\n",
       "\n",
       "    .dataframe tbody tr th {\n",
       "        vertical-align: top;\n",
       "    }\n",
       "\n",
       "    .dataframe thead th {\n",
       "        text-align: right;\n",
       "    }\n",
       "</style>\n",
       "<table border=\"1\" class=\"dataframe\">\n",
       "  <thead>\n",
       "    <tr style=\"text-align: right;\">\n",
       "      <th></th>\n",
       "      <th>City</th>\n",
       "      <th>Temp</th>\n",
       "      <th>Humidity</th>\n",
       "    </tr>\n",
       "  </thead>\n",
       "  <tbody>\n",
       "    <tr>\n",
       "      <th>2</th>\n",
       "      <td>Anand</td>\n",
       "      <td>32</td>\n",
       "      <td>23</td>\n",
       "    </tr>\n",
       "    <tr>\n",
       "      <th>5</th>\n",
       "      <td>Anand</td>\n",
       "      <td>34</td>\n",
       "      <td>32</td>\n",
       "    </tr>\n",
       "  </tbody>\n",
       "</table>\n",
       "</div>"
      ],
      "text/plain": [
       "    City  Temp  Humidity\n",
       "2  Anand    32        23\n",
       "5  Anand    34        32"
      ]
     },
     "execution_count": 18,
     "metadata": {},
     "output_type": "execute_result"
    }
   ],
   "source": [
    "## similarly\n",
    "grp.get_group('Anand')"
   ]
  },
  {
   "cell_type": "markdown",
   "id": "c3ba516c",
   "metadata": {},
   "source": [
    "# 8. Apply Functions To Groupby Groups [ Like min, max and mean, etc.]."
   ]
  },
  {
   "cell_type": "code",
   "execution_count": 19,
   "id": "9af3491f",
   "metadata": {
    "scrolled": true
   },
   "outputs": [
    {
     "data": {
      "text/plain": [
       "<pandas.core.groupby.generic.DataFrameGroupBy object at 0x000002DC80C96A60>"
      ]
     },
     "execution_count": 19,
     "metadata": {},
     "output_type": "execute_result"
    }
   ],
   "source": [
    "grp=data.groupby('City')\n",
    "grp"
   ]
  },
  {
   "cell_type": "code",
   "execution_count": 20,
   "id": "2513824b",
   "metadata": {
    "scrolled": true
   },
   "outputs": [
    {
     "data": {
      "text/html": [
       "<div>\n",
       "<style scoped>\n",
       "    .dataframe tbody tr th:only-of-type {\n",
       "        vertical-align: middle;\n",
       "    }\n",
       "\n",
       "    .dataframe tbody tr th {\n",
       "        vertical-align: top;\n",
       "    }\n",
       "\n",
       "    .dataframe thead th {\n",
       "        text-align: right;\n",
       "    }\n",
       "</style>\n",
       "<table border=\"1\" class=\"dataframe\">\n",
       "  <thead>\n",
       "    <tr style=\"text-align: right;\">\n",
       "      <th></th>\n",
       "      <th>Temp</th>\n",
       "      <th>Humidity</th>\n",
       "    </tr>\n",
       "    <tr>\n",
       "      <th>City</th>\n",
       "      <th></th>\n",
       "      <th></th>\n",
       "    </tr>\n",
       "  </thead>\n",
       "  <tbody>\n",
       "    <tr>\n",
       "      <th>Ahmedabad</th>\n",
       "      <td>42.5</td>\n",
       "      <td>28.0</td>\n",
       "    </tr>\n",
       "    <tr>\n",
       "      <th>Anand</th>\n",
       "      <td>33.0</td>\n",
       "      <td>27.5</td>\n",
       "    </tr>\n",
       "    <tr>\n",
       "      <th>Baroda</th>\n",
       "      <td>36.0</td>\n",
       "      <td>30.5</td>\n",
       "    </tr>\n",
       "  </tbody>\n",
       "</table>\n",
       "</div>"
      ],
      "text/plain": [
       "           Temp  Humidity\n",
       "City                     \n",
       "Ahmedabad  42.5      28.0\n",
       "Anand      33.0      27.5\n",
       "Baroda     36.0      30.5"
      ]
     },
     "execution_count": 20,
     "metadata": {},
     "output_type": "execute_result"
    }
   ],
   "source": [
    "grp.mean()"
   ]
  },
  {
   "cell_type": "code",
   "execution_count": 22,
   "id": "43c6b036",
   "metadata": {
    "scrolled": true
   },
   "outputs": [
    {
     "data": {
      "text/html": [
       "<div>\n",
       "<style scoped>\n",
       "    .dataframe tbody tr th:only-of-type {\n",
       "        vertical-align: middle;\n",
       "    }\n",
       "\n",
       "    .dataframe tbody tr th {\n",
       "        vertical-align: top;\n",
       "    }\n",
       "\n",
       "    .dataframe thead th {\n",
       "        text-align: right;\n",
       "    }\n",
       "</style>\n",
       "<table border=\"1\" class=\"dataframe\">\n",
       "  <thead>\n",
       "    <tr style=\"text-align: right;\">\n",
       "      <th></th>\n",
       "      <th>Temp</th>\n",
       "      <th>Humidity</th>\n",
       "    </tr>\n",
       "    <tr>\n",
       "      <th>City</th>\n",
       "      <th></th>\n",
       "      <th></th>\n",
       "    </tr>\n",
       "  </thead>\n",
       "  <tbody>\n",
       "    <tr>\n",
       "      <th>Ahmedabad</th>\n",
       "      <td>42.5</td>\n",
       "      <td>28.0</td>\n",
       "    </tr>\n",
       "    <tr>\n",
       "      <th>Anand</th>\n",
       "      <td>33.0</td>\n",
       "      <td>27.5</td>\n",
       "    </tr>\n",
       "    <tr>\n",
       "      <th>Baroda</th>\n",
       "      <td>36.0</td>\n",
       "      <td>30.5</td>\n",
       "    </tr>\n",
       "  </tbody>\n",
       "</table>\n",
       "</div>"
      ],
      "text/plain": [
       "           Temp  Humidity\n",
       "City                     \n",
       "Ahmedabad  42.5      28.0\n",
       "Anand      33.0      27.5\n",
       "Baroda     36.0      30.5"
      ]
     },
     "execution_count": 22,
     "metadata": {},
     "output_type": "execute_result"
    }
   ],
   "source": [
    "grp=data.groupby('City').mean()\n",
    "grp"
   ]
  },
  {
   "cell_type": "code",
   "execution_count": 23,
   "id": "ffef54c8",
   "metadata": {
    "scrolled": true
   },
   "outputs": [
    {
     "data": {
      "text/html": [
       "<div>\n",
       "<style scoped>\n",
       "    .dataframe tbody tr th:only-of-type {\n",
       "        vertical-align: middle;\n",
       "    }\n",
       "\n",
       "    .dataframe tbody tr th {\n",
       "        vertical-align: top;\n",
       "    }\n",
       "\n",
       "    .dataframe thead th {\n",
       "        text-align: right;\n",
       "    }\n",
       "</style>\n",
       "<table border=\"1\" class=\"dataframe\">\n",
       "  <thead>\n",
       "    <tr style=\"text-align: right;\">\n",
       "      <th></th>\n",
       "      <th>Temp</th>\n",
       "      <th>Humidity</th>\n",
       "    </tr>\n",
       "    <tr>\n",
       "      <th>City</th>\n",
       "      <th></th>\n",
       "      <th></th>\n",
       "    </tr>\n",
       "  </thead>\n",
       "  <tbody>\n",
       "    <tr>\n",
       "      <th>Ahmedabad</th>\n",
       "      <td>40</td>\n",
       "      <td>24</td>\n",
       "    </tr>\n",
       "    <tr>\n",
       "      <th>Anand</th>\n",
       "      <td>32</td>\n",
       "      <td>23</td>\n",
       "    </tr>\n",
       "    <tr>\n",
       "      <th>Baroda</th>\n",
       "      <td>35</td>\n",
       "      <td>27</td>\n",
       "    </tr>\n",
       "  </tbody>\n",
       "</table>\n",
       "</div>"
      ],
      "text/plain": [
       "           Temp  Humidity\n",
       "City                     \n",
       "Ahmedabad    40        24\n",
       "Anand        32        23\n",
       "Baroda       35        27"
      ]
     },
     "execution_count": 23,
     "metadata": {},
     "output_type": "execute_result"
    }
   ],
   "source": [
    "grp=data.groupby('City').min()\n",
    "grp"
   ]
  },
  {
   "cell_type": "code",
   "execution_count": 24,
   "id": "00b12643",
   "metadata": {},
   "outputs": [
    {
     "data": {
      "text/plain": [
       "City\n",
       "Ahmedabad    42.5\n",
       "Anand        33.0\n",
       "Baroda       36.0\n",
       "Name: Temp, dtype: float64"
      ]
     },
     "execution_count": 24,
     "metadata": {},
     "output_type": "execute_result"
    }
   ],
   "source": [
    "grp=data.groupby('City')['Temp'].mean()\n",
    "grp"
   ]
  },
  {
   "cell_type": "markdown",
   "id": "bf1302dc",
   "metadata": {},
   "source": [
    "# 9. Display Average Temperature CityWise With Prefix Mean_Temp_."
   ]
  },
  {
   "cell_type": "code",
   "execution_count": 28,
   "id": "6f35c8f7",
   "metadata": {},
   "outputs": [
    {
     "data": {
      "text/plain": [
       "City\n",
       "Avg_Temp_Ahmedabad    42.5\n",
       "Avg_Temp_Anand        33.0\n",
       "Avg_Temp_Baroda       36.0\n",
       "Name: Temp, dtype: float64"
      ]
     },
     "execution_count": 28,
     "metadata": {},
     "output_type": "execute_result"
    }
   ],
   "source": [
    "## add prefix method to add prefix infront of values of City column\n",
    "grp=data.groupby('City')['Temp']\\\n",
    ".mean().add_prefix('Avg_Temp_')\n",
    "grp"
   ]
  },
  {
   "cell_type": "markdown",
   "id": "cb3ad245",
   "metadata": {},
   "source": [
    "# 10. Display Descriptive Statistics GroupWise."
   ]
  },
  {
   "cell_type": "code",
   "execution_count": 29,
   "id": "a6909fa2",
   "metadata": {},
   "outputs": [
    {
     "data": {
      "text/html": [
       "<div>\n",
       "<style scoped>\n",
       "    .dataframe tbody tr th:only-of-type {\n",
       "        vertical-align: middle;\n",
       "    }\n",
       "\n",
       "    .dataframe tbody tr th {\n",
       "        vertical-align: top;\n",
       "    }\n",
       "\n",
       "    .dataframe thead tr th {\n",
       "        text-align: left;\n",
       "    }\n",
       "\n",
       "    .dataframe thead tr:last-of-type th {\n",
       "        text-align: right;\n",
       "    }\n",
       "</style>\n",
       "<table border=\"1\" class=\"dataframe\">\n",
       "  <thead>\n",
       "    <tr>\n",
       "      <th></th>\n",
       "      <th colspan=\"8\" halign=\"left\">Temp</th>\n",
       "      <th colspan=\"8\" halign=\"left\">Humidity</th>\n",
       "    </tr>\n",
       "    <tr>\n",
       "      <th></th>\n",
       "      <th>count</th>\n",
       "      <th>mean</th>\n",
       "      <th>std</th>\n",
       "      <th>min</th>\n",
       "      <th>25%</th>\n",
       "      <th>50%</th>\n",
       "      <th>75%</th>\n",
       "      <th>max</th>\n",
       "      <th>count</th>\n",
       "      <th>mean</th>\n",
       "      <th>std</th>\n",
       "      <th>min</th>\n",
       "      <th>25%</th>\n",
       "      <th>50%</th>\n",
       "      <th>75%</th>\n",
       "      <th>max</th>\n",
       "    </tr>\n",
       "    <tr>\n",
       "      <th>City</th>\n",
       "      <th></th>\n",
       "      <th></th>\n",
       "      <th></th>\n",
       "      <th></th>\n",
       "      <th></th>\n",
       "      <th></th>\n",
       "      <th></th>\n",
       "      <th></th>\n",
       "      <th></th>\n",
       "      <th></th>\n",
       "      <th></th>\n",
       "      <th></th>\n",
       "      <th></th>\n",
       "      <th></th>\n",
       "      <th></th>\n",
       "      <th></th>\n",
       "    </tr>\n",
       "  </thead>\n",
       "  <tbody>\n",
       "    <tr>\n",
       "      <th>Ahmedabad</th>\n",
       "      <td>2.0</td>\n",
       "      <td>42.5</td>\n",
       "      <td>3.535534</td>\n",
       "      <td>40.0</td>\n",
       "      <td>41.25</td>\n",
       "      <td>42.5</td>\n",
       "      <td>43.75</td>\n",
       "      <td>45.0</td>\n",
       "      <td>2.0</td>\n",
       "      <td>28.0</td>\n",
       "      <td>5.656854</td>\n",
       "      <td>24.0</td>\n",
       "      <td>26.00</td>\n",
       "      <td>28.0</td>\n",
       "      <td>30.00</td>\n",
       "      <td>32.0</td>\n",
       "    </tr>\n",
       "    <tr>\n",
       "      <th>Anand</th>\n",
       "      <td>2.0</td>\n",
       "      <td>33.0</td>\n",
       "      <td>1.414214</td>\n",
       "      <td>32.0</td>\n",
       "      <td>32.50</td>\n",
       "      <td>33.0</td>\n",
       "      <td>33.50</td>\n",
       "      <td>34.0</td>\n",
       "      <td>2.0</td>\n",
       "      <td>27.5</td>\n",
       "      <td>6.363961</td>\n",
       "      <td>23.0</td>\n",
       "      <td>25.25</td>\n",
       "      <td>27.5</td>\n",
       "      <td>29.75</td>\n",
       "      <td>32.0</td>\n",
       "    </tr>\n",
       "    <tr>\n",
       "      <th>Baroda</th>\n",
       "      <td>2.0</td>\n",
       "      <td>36.0</td>\n",
       "      <td>1.414214</td>\n",
       "      <td>35.0</td>\n",
       "      <td>35.50</td>\n",
       "      <td>36.0</td>\n",
       "      <td>36.50</td>\n",
       "      <td>37.0</td>\n",
       "      <td>2.0</td>\n",
       "      <td>30.5</td>\n",
       "      <td>4.949747</td>\n",
       "      <td>27.0</td>\n",
       "      <td>28.75</td>\n",
       "      <td>30.5</td>\n",
       "      <td>32.25</td>\n",
       "      <td>34.0</td>\n",
       "    </tr>\n",
       "  </tbody>\n",
       "</table>\n",
       "</div>"
      ],
      "text/plain": [
       "           Temp                                                 Humidity  \\\n",
       "          count  mean       std   min    25%   50%    75%   max    count   \n",
       "City                                                                       \n",
       "Ahmedabad   2.0  42.5  3.535534  40.0  41.25  42.5  43.75  45.0      2.0   \n",
       "Anand       2.0  33.0  1.414214  32.0  32.50  33.0  33.50  34.0      2.0   \n",
       "Baroda      2.0  36.0  1.414214  35.0  35.50  36.0  36.50  37.0      2.0   \n",
       "\n",
       "                                                           \n",
       "           mean       std   min    25%   50%    75%   max  \n",
       "City                                                       \n",
       "Ahmedabad  28.0  5.656854  24.0  26.00  28.0  30.00  32.0  \n",
       "Anand      27.5  6.363961  23.0  25.25  27.5  29.75  32.0  \n",
       "Baroda     30.5  4.949747  27.0  28.75  30.5  32.25  34.0  "
      ]
     },
     "execution_count": 29,
     "metadata": {},
     "output_type": "execute_result"
    }
   ],
   "source": [
    "grp= data.groupby('City')\n",
    "grp.describe()"
   ]
  },
  {
   "cell_type": "markdown",
   "id": "12051b90",
   "metadata": {},
   "source": [
    "# 11. Perform Statistical Computations Using agg() Function."
   ]
  },
  {
   "cell_type": "code",
   "execution_count": 30,
   "id": "302c41f5",
   "metadata": {
    "scrolled": true
   },
   "outputs": [
    {
     "data": {
      "text/html": [
       "<div>\n",
       "<style scoped>\n",
       "    .dataframe tbody tr th:only-of-type {\n",
       "        vertical-align: middle;\n",
       "    }\n",
       "\n",
       "    .dataframe tbody tr th {\n",
       "        vertical-align: top;\n",
       "    }\n",
       "\n",
       "    .dataframe thead tr th {\n",
       "        text-align: left;\n",
       "    }\n",
       "\n",
       "    .dataframe thead tr:last-of-type th {\n",
       "        text-align: right;\n",
       "    }\n",
       "</style>\n",
       "<table border=\"1\" class=\"dataframe\">\n",
       "  <thead>\n",
       "    <tr>\n",
       "      <th></th>\n",
       "      <th colspan=\"3\" halign=\"left\">Temp</th>\n",
       "      <th colspan=\"3\" halign=\"left\">Humidity</th>\n",
       "    </tr>\n",
       "    <tr>\n",
       "      <th></th>\n",
       "      <th>min</th>\n",
       "      <th>max</th>\n",
       "      <th>mean</th>\n",
       "      <th>min</th>\n",
       "      <th>max</th>\n",
       "      <th>mean</th>\n",
       "    </tr>\n",
       "    <tr>\n",
       "      <th>City</th>\n",
       "      <th></th>\n",
       "      <th></th>\n",
       "      <th></th>\n",
       "      <th></th>\n",
       "      <th></th>\n",
       "      <th></th>\n",
       "    </tr>\n",
       "  </thead>\n",
       "  <tbody>\n",
       "    <tr>\n",
       "      <th>Ahmedabad</th>\n",
       "      <td>40</td>\n",
       "      <td>45</td>\n",
       "      <td>42.5</td>\n",
       "      <td>24</td>\n",
       "      <td>32</td>\n",
       "      <td>28.0</td>\n",
       "    </tr>\n",
       "    <tr>\n",
       "      <th>Anand</th>\n",
       "      <td>32</td>\n",
       "      <td>34</td>\n",
       "      <td>33.0</td>\n",
       "      <td>23</td>\n",
       "      <td>32</td>\n",
       "      <td>27.5</td>\n",
       "    </tr>\n",
       "    <tr>\n",
       "      <th>Baroda</th>\n",
       "      <td>35</td>\n",
       "      <td>37</td>\n",
       "      <td>36.0</td>\n",
       "      <td>27</td>\n",
       "      <td>34</td>\n",
       "      <td>30.5</td>\n",
       "    </tr>\n",
       "  </tbody>\n",
       "</table>\n",
       "</div>"
      ],
      "text/plain": [
       "          Temp           Humidity          \n",
       "           min max  mean      min max  mean\n",
       "City                                       \n",
       "Ahmedabad   40  45  42.5       24  32  28.0\n",
       "Anand       32  34  33.0       23  32  27.5\n",
       "Baroda      35  37  36.0       27  34  30.5"
      ]
     },
     "execution_count": 30,
     "metadata": {},
     "output_type": "execute_result"
    }
   ],
   "source": [
    "grp=data.groupby('City')\n",
    "grp.agg(['min','max','mean'])"
   ]
  },
  {
   "cell_type": "code",
   "execution_count": 32,
   "id": "0f2317f9",
   "metadata": {
    "scrolled": true
   },
   "outputs": [
    {
     "data": {
      "text/html": [
       "<div>\n",
       "<style scoped>\n",
       "    .dataframe tbody tr th:only-of-type {\n",
       "        vertical-align: middle;\n",
       "    }\n",
       "\n",
       "    .dataframe tbody tr th {\n",
       "        vertical-align: top;\n",
       "    }\n",
       "\n",
       "    .dataframe thead tr th {\n",
       "        text-align: left;\n",
       "    }\n",
       "\n",
       "    .dataframe thead tr:last-of-type th {\n",
       "        text-align: right;\n",
       "    }\n",
       "</style>\n",
       "<table border=\"1\" class=\"dataframe\">\n",
       "  <thead>\n",
       "    <tr>\n",
       "      <th></th>\n",
       "      <th colspan=\"3\" halign=\"left\">Temp</th>\n",
       "      <th colspan=\"3\" halign=\"left\">Humidity</th>\n",
       "    </tr>\n",
       "    <tr>\n",
       "      <th></th>\n",
       "      <th>min</th>\n",
       "      <th>max</th>\n",
       "      <th>mean</th>\n",
       "      <th>min</th>\n",
       "      <th>max</th>\n",
       "      <th>mean</th>\n",
       "    </tr>\n",
       "    <tr>\n",
       "      <th>City</th>\n",
       "      <th></th>\n",
       "      <th></th>\n",
       "      <th></th>\n",
       "      <th></th>\n",
       "      <th></th>\n",
       "      <th></th>\n",
       "    </tr>\n",
       "  </thead>\n",
       "  <tbody>\n",
       "    <tr>\n",
       "      <th>Ahmedabad</th>\n",
       "      <td>40</td>\n",
       "      <td>45</td>\n",
       "      <td>42.5</td>\n",
       "      <td>24</td>\n",
       "      <td>32</td>\n",
       "      <td>28.0</td>\n",
       "    </tr>\n",
       "    <tr>\n",
       "      <th>Anand</th>\n",
       "      <td>32</td>\n",
       "      <td>34</td>\n",
       "      <td>33.0</td>\n",
       "      <td>23</td>\n",
       "      <td>32</td>\n",
       "      <td>27.5</td>\n",
       "    </tr>\n",
       "    <tr>\n",
       "      <th>Baroda</th>\n",
       "      <td>35</td>\n",
       "      <td>37</td>\n",
       "      <td>36.0</td>\n",
       "      <td>27</td>\n",
       "      <td>34</td>\n",
       "      <td>30.5</td>\n",
       "    </tr>\n",
       "  </tbody>\n",
       "</table>\n",
       "</div>"
      ],
      "text/plain": [
       "          Temp           Humidity          \n",
       "           min max  mean      min max  mean\n",
       "City                                       \n",
       "Ahmedabad   40  45  42.5       24  32  28.0\n",
       "Anand       32  34  33.0       23  32  27.5\n",
       "Baroda      35  37  36.0       27  34  30.5"
      ]
     },
     "execution_count": 32,
     "metadata": {},
     "output_type": "execute_result"
    }
   ],
   "source": [
    "# computation can be done with one line \n",
    "grp=data.groupby('City').agg(['min','max','mean'])\n",
    "grp"
   ]
  },
  {
   "cell_type": "code",
   "execution_count": 33,
   "id": "4024a699",
   "metadata": {},
   "outputs": [
    {
     "data": {
      "text/html": [
       "<div>\n",
       "<style scoped>\n",
       "    .dataframe tbody tr th:only-of-type {\n",
       "        vertical-align: middle;\n",
       "    }\n",
       "\n",
       "    .dataframe tbody tr th {\n",
       "        vertical-align: top;\n",
       "    }\n",
       "\n",
       "    .dataframe thead th {\n",
       "        text-align: right;\n",
       "    }\n",
       "</style>\n",
       "<table border=\"1\" class=\"dataframe\">\n",
       "  <thead>\n",
       "    <tr style=\"text-align: right;\">\n",
       "      <th></th>\n",
       "      <th>min</th>\n",
       "      <th>max</th>\n",
       "      <th>mean</th>\n",
       "    </tr>\n",
       "    <tr>\n",
       "      <th>City</th>\n",
       "      <th></th>\n",
       "      <th></th>\n",
       "      <th></th>\n",
       "    </tr>\n",
       "  </thead>\n",
       "  <tbody>\n",
       "    <tr>\n",
       "      <th>Ahmedabad</th>\n",
       "      <td>40</td>\n",
       "      <td>45</td>\n",
       "      <td>42.5</td>\n",
       "    </tr>\n",
       "    <tr>\n",
       "      <th>Anand</th>\n",
       "      <td>32</td>\n",
       "      <td>34</td>\n",
       "      <td>33.0</td>\n",
       "    </tr>\n",
       "    <tr>\n",
       "      <th>Baroda</th>\n",
       "      <td>35</td>\n",
       "      <td>37</td>\n",
       "      <td>36.0</td>\n",
       "    </tr>\n",
       "  </tbody>\n",
       "</table>\n",
       "</div>"
      ],
      "text/plain": [
       "           min  max  mean\n",
       "City                     \n",
       "Ahmedabad   40   45  42.5\n",
       "Anand       32   34  33.0\n",
       "Baroda      35   37  36.0"
      ]
     },
     "execution_count": 33,
     "metadata": {},
     "output_type": "execute_result"
    }
   ],
   "source": [
    "grp=data.groupby('City')['Temp'].agg(['min','max','mean'])\n",
    "grp"
   ]
  },
  {
   "cell_type": "markdown",
   "id": "139e1d84",
   "metadata": {},
   "source": [
    "# 12. Create A Function To Get The Statistics GroupWise."
   ]
  },
  {
   "cell_type": "code",
   "execution_count": 34,
   "id": "e647b74e",
   "metadata": {},
   "outputs": [],
   "source": [
    "def fun(grp):\n",
    "    return {'Min':grp.min(),'Mean':grp.mean()}"
   ]
  },
  {
   "cell_type": "code",
   "execution_count": 35,
   "id": "ceb19217",
   "metadata": {
    "scrolled": true
   },
   "outputs": [
    {
     "name": "stderr",
     "output_type": "stream",
     "text": [
      "C:\\Users\\Dell\\AppData\\Local\\Temp\\ipykernel_12512\\2830381116.py:2: FutureWarning: Dropping of nuisance columns in DataFrame reductions (with 'numeric_only=None') is deprecated; in a future version this will raise TypeError.  Select only valid columns before calling the reduction.\n",
      "  return {'Min':grp.min(),'Mean':grp.mean()}\n"
     ]
    }
   ],
   "source": [
    "grp = data.groupby('City').apply(fun)"
   ]
  },
  {
   "cell_type": "code",
   "execution_count": 36,
   "id": "1af519fb",
   "metadata": {
    "scrolled": true
   },
   "outputs": [
    {
     "data": {
      "text/plain": [
       "City\n",
       "Ahmedabad    {'Min': ['Ahmedabad', 40, 24], 'Mean': [42.5, ...\n",
       "Anand         {'Min': ['Anand', 32, 23], 'Mean': [33.0, 27.5]}\n",
       "Baroda       {'Min': ['Baroda', 35, 27], 'Mean': [36.0, 30.5]}\n",
       "dtype: object"
      ]
     },
     "execution_count": 36,
     "metadata": {},
     "output_type": "execute_result"
    }
   ],
   "source": [
    "grp"
   ]
  },
  {
   "cell_type": "code",
   "execution_count": 37,
   "id": "41d47b0a",
   "metadata": {},
   "outputs": [
    {
     "data": {
      "text/plain": [
       "<pandas.core.groupby.generic.DataFrameGroupBy object at 0x000002DC80C96C40>"
      ]
     },
     "execution_count": 37,
     "metadata": {},
     "output_type": "execute_result"
    }
   ],
   "source": [
    "# ***first grouping base on City and within each City we are grouping base on Temp\n",
    "grp=data.groupby(['City','Temp'])\n",
    "grp"
   ]
  },
  {
   "cell_type": "code",
   "execution_count": 38,
   "id": "1b96969a",
   "metadata": {},
   "outputs": [
    {
     "name": "stdout",
     "output_type": "stream",
     "text": [
      "('Ahmedabad', 40)\n",
      "        City  Temp  Humidity\n",
      "0  Ahmedabad    40        32\n",
      "('Ahmedabad', 45)\n",
      "        City  Temp  Humidity\n",
      "3  Ahmedabad    45        24\n",
      "('Anand', 32)\n",
      "    City  Temp  Humidity\n",
      "2  Anand    32        23\n",
      "('Anand', 34)\n",
      "    City  Temp  Humidity\n",
      "5  Anand    34        32\n",
      "('Baroda', 35)\n",
      "     City  Temp  Humidity\n",
      "1  Baroda    35        34\n",
      "('Baroda', 37)\n",
      "     City  Temp  Humidity\n",
      "4  Baroda    37        27\n"
     ]
    }
   ],
   "source": [
    "for key,value in grp:\n",
    "    print (key)\n",
    "    print (value)"
   ]
  }
 ],
 "metadata": {
  "kernelspec": {
   "display_name": "Python 3 (ipykernel)",
   "language": "python",
   "name": "python3"
  },
  "language_info": {
   "codemirror_mode": {
    "name": "ipython",
    "version": 3
   },
   "file_extension": ".py",
   "mimetype": "text/x-python",
   "name": "python",
   "nbconvert_exporter": "python",
   "pygments_lexer": "ipython3",
   "version": "3.9.12"
  }
 },
 "nbformat": 4,
 "nbformat_minor": 5
}
