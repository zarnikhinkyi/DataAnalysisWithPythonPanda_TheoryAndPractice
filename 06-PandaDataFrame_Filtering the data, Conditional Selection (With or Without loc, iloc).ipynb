{
 "cells": [
  {
   "cell_type": "code",
   "execution_count": 1,
   "id": "67c0ae62",
   "metadata": {
    "scrolled": true
   },
   "outputs": [
    {
     "data": {
      "text/html": [
       "<div>\n",
       "<style scoped>\n",
       "    .dataframe tbody tr th:only-of-type {\n",
       "        vertical-align: middle;\n",
       "    }\n",
       "\n",
       "    .dataframe tbody tr th {\n",
       "        vertical-align: top;\n",
       "    }\n",
       "\n",
       "    .dataframe thead th {\n",
       "        text-align: right;\n",
       "    }\n",
       "</style>\n",
       "<table border=\"1\" class=\"dataframe\">\n",
       "  <thead>\n",
       "    <tr style=\"text-align: right;\">\n",
       "      <th></th>\n",
       "      <th>Name</th>\n",
       "      <th>Marks</th>\n",
       "      <th>Grades</th>\n",
       "    </tr>\n",
       "  </thead>\n",
       "  <tbody>\n",
       "    <tr>\n",
       "      <th>stu1</th>\n",
       "      <td>King</td>\n",
       "      <td>90</td>\n",
       "      <td>AA</td>\n",
       "    </tr>\n",
       "    <tr>\n",
       "      <th>stu2</th>\n",
       "      <td>Queen</td>\n",
       "      <td>89</td>\n",
       "      <td>AB</td>\n",
       "    </tr>\n",
       "    <tr>\n",
       "      <th>stu3</th>\n",
       "      <td>Pricess</td>\n",
       "      <td>80</td>\n",
       "      <td>CC</td>\n",
       "    </tr>\n",
       "    <tr>\n",
       "      <th>stu4</th>\n",
       "      <td>Prince</td>\n",
       "      <td>88</td>\n",
       "      <td>BB</td>\n",
       "    </tr>\n",
       "    <tr>\n",
       "      <th>stu5</th>\n",
       "      <td>Diana</td>\n",
       "      <td>90</td>\n",
       "      <td>AA</td>\n",
       "    </tr>\n",
       "    <tr>\n",
       "      <th>stu6</th>\n",
       "      <td>William</td>\n",
       "      <td>98</td>\n",
       "      <td>AA</td>\n",
       "    </tr>\n",
       "    <tr>\n",
       "      <th>stu7</th>\n",
       "      <td>Georg</td>\n",
       "      <td>88</td>\n",
       "      <td>BB</td>\n",
       "    </tr>\n",
       "  </tbody>\n",
       "</table>\n",
       "</div>"
      ],
      "text/plain": [
       "         Name  Marks Grades\n",
       "stu1     King     90     AA\n",
       "stu2    Queen     89     AB\n",
       "stu3  Pricess     80     CC\n",
       "stu4   Prince     88     BB\n",
       "stu5    Diana     90     AA\n",
       "stu6  William     98     AA\n",
       "stu7    Georg     88     BB"
      ]
     },
     "execution_count": 1,
     "metadata": {},
     "output_type": "execute_result"
    }
   ],
   "source": [
    "import pandas as pd\n",
    "\n",
    "dict={'Name':['King','Queen','Pricess','Prince','Diana','William','Georg'],\n",
    "      'Marks':[90,89,80,88,90,98,88],\n",
    "      'Grades':['AA','AB','CC','BB','AA','AA','BB']}\n",
    "df=pd.DataFrame(dict,index=['stu1','stu2','stu3','stu4','stu5','stu6','stu7'])\n",
    "df"
   ]
  },
  {
   "cell_type": "markdown",
   "id": "593016f5",
   "metadata": {},
   "source": [
    "## Filtering the data without using loc, iloc"
   ]
  },
  {
   "cell_type": "markdown",
   "id": "c973730e",
   "metadata": {},
   "source": [
    "#### 1. Students having marks greater than 90"
   ]
  },
  {
   "cell_type": "code",
   "execution_count": 2,
   "id": "aa8ac527",
   "metadata": {},
   "outputs": [],
   "source": [
    "x=df['Marks']>90"
   ]
  },
  {
   "cell_type": "code",
   "execution_count": 3,
   "id": "3692c346",
   "metadata": {
    "scrolled": true
   },
   "outputs": [
    {
     "data": {
      "text/html": [
       "<div>\n",
       "<style scoped>\n",
       "    .dataframe tbody tr th:only-of-type {\n",
       "        vertical-align: middle;\n",
       "    }\n",
       "\n",
       "    .dataframe tbody tr th {\n",
       "        vertical-align: top;\n",
       "    }\n",
       "\n",
       "    .dataframe thead th {\n",
       "        text-align: right;\n",
       "    }\n",
       "</style>\n",
       "<table border=\"1\" class=\"dataframe\">\n",
       "  <thead>\n",
       "    <tr style=\"text-align: right;\">\n",
       "      <th></th>\n",
       "      <th>Name</th>\n",
       "      <th>Marks</th>\n",
       "      <th>Grades</th>\n",
       "    </tr>\n",
       "  </thead>\n",
       "  <tbody>\n",
       "    <tr>\n",
       "      <th>stu6</th>\n",
       "      <td>William</td>\n",
       "      <td>98</td>\n",
       "      <td>AA</td>\n",
       "    </tr>\n",
       "  </tbody>\n",
       "</table>\n",
       "</div>"
      ],
      "text/plain": [
       "         Name  Marks Grades\n",
       "stu6  William     98     AA"
      ]
     },
     "execution_count": 3,
     "metadata": {},
     "output_type": "execute_result"
    }
   ],
   "source": [
    "df[x]"
   ]
  },
  {
   "cell_type": "code",
   "execution_count": 5,
   "id": "5373c49b",
   "metadata": {
    "scrolled": true
   },
   "outputs": [
    {
     "data": {
      "text/html": [
       "<div>\n",
       "<style scoped>\n",
       "    .dataframe tbody tr th:only-of-type {\n",
       "        vertical-align: middle;\n",
       "    }\n",
       "\n",
       "    .dataframe tbody tr th {\n",
       "        vertical-align: top;\n",
       "    }\n",
       "\n",
       "    .dataframe thead th {\n",
       "        text-align: right;\n",
       "    }\n",
       "</style>\n",
       "<table border=\"1\" class=\"dataframe\">\n",
       "  <thead>\n",
       "    <tr style=\"text-align: right;\">\n",
       "      <th></th>\n",
       "      <th>Name</th>\n",
       "      <th>Marks</th>\n",
       "      <th>Grades</th>\n",
       "    </tr>\n",
       "  </thead>\n",
       "  <tbody>\n",
       "    <tr>\n",
       "      <th>stu6</th>\n",
       "      <td>William</td>\n",
       "      <td>98</td>\n",
       "      <td>AA</td>\n",
       "    </tr>\n",
       "  </tbody>\n",
       "</table>\n",
       "</div>"
      ],
      "text/plain": [
       "         Name  Marks Grades\n",
       "stu6  William     98     AA"
      ]
     },
     "execution_count": 5,
     "metadata": {},
     "output_type": "execute_result"
    }
   ],
   "source": [
    "# other ways\n",
    "df[df['Marks']>90]"
   ]
  },
  {
   "cell_type": "markdown",
   "id": "bdbd9825",
   "metadata": {},
   "source": [
    "#### 2. Students having \"AB\" grade"
   ]
  },
  {
   "cell_type": "code",
   "execution_count": 7,
   "id": "84f58ac4",
   "metadata": {
    "scrolled": true
   },
   "outputs": [
    {
     "data": {
      "text/html": [
       "<div>\n",
       "<style scoped>\n",
       "    .dataframe tbody tr th:only-of-type {\n",
       "        vertical-align: middle;\n",
       "    }\n",
       "\n",
       "    .dataframe tbody tr th {\n",
       "        vertical-align: top;\n",
       "    }\n",
       "\n",
       "    .dataframe thead th {\n",
       "        text-align: right;\n",
       "    }\n",
       "</style>\n",
       "<table border=\"1\" class=\"dataframe\">\n",
       "  <thead>\n",
       "    <tr style=\"text-align: right;\">\n",
       "      <th></th>\n",
       "      <th>Name</th>\n",
       "      <th>Marks</th>\n",
       "      <th>Grades</th>\n",
       "    </tr>\n",
       "  </thead>\n",
       "  <tbody>\n",
       "    <tr>\n",
       "      <th>stu2</th>\n",
       "      <td>Queen</td>\n",
       "      <td>89</td>\n",
       "      <td>AB</td>\n",
       "    </tr>\n",
       "  </tbody>\n",
       "</table>\n",
       "</div>"
      ],
      "text/plain": [
       "       Name  Marks Grades\n",
       "stu2  Queen     89     AB"
      ]
     },
     "execution_count": 7,
     "metadata": {},
     "output_type": "execute_result"
    }
   ],
   "source": [
    "df[df['Grades']=='AB']"
   ]
  },
  {
   "cell_type": "markdown",
   "id": "04387868",
   "metadata": {},
   "source": [
    "#### 3. Students having Marks greater than 80 and having \"AB\" Grade"
   ]
  },
  {
   "cell_type": "code",
   "execution_count": 8,
   "id": "21011014",
   "metadata": {
    "scrolled": true
   },
   "outputs": [
    {
     "data": {
      "text/html": [
       "<div>\n",
       "<style scoped>\n",
       "    .dataframe tbody tr th:only-of-type {\n",
       "        vertical-align: middle;\n",
       "    }\n",
       "\n",
       "    .dataframe tbody tr th {\n",
       "        vertical-align: top;\n",
       "    }\n",
       "\n",
       "    .dataframe thead th {\n",
       "        text-align: right;\n",
       "    }\n",
       "</style>\n",
       "<table border=\"1\" class=\"dataframe\">\n",
       "  <thead>\n",
       "    <tr style=\"text-align: right;\">\n",
       "      <th></th>\n",
       "      <th>Name</th>\n",
       "      <th>Marks</th>\n",
       "      <th>Grades</th>\n",
       "    </tr>\n",
       "  </thead>\n",
       "  <tbody>\n",
       "    <tr>\n",
       "      <th>stu2</th>\n",
       "      <td>Queen</td>\n",
       "      <td>89</td>\n",
       "      <td>AB</td>\n",
       "    </tr>\n",
       "  </tbody>\n",
       "</table>\n",
       "</div>"
      ],
      "text/plain": [
       "       Name  Marks Grades\n",
       "stu2  Queen     89     AB"
      ]
     },
     "execution_count": 8,
     "metadata": {},
     "output_type": "execute_result"
    }
   ],
   "source": [
    "df[(df['Marks']>80) & (df['Grades']==\"AB\")]"
   ]
  },
  {
   "cell_type": "markdown",
   "id": "51fdb4b0",
   "metadata": {},
   "source": [
    "#### 4. Name of the students having marks greater than 90"
   ]
  },
  {
   "cell_type": "code",
   "execution_count": 10,
   "id": "0e88f95a",
   "metadata": {},
   "outputs": [
    {
     "data": {
      "text/plain": [
       "stu6    William\n",
       "Name: Name, dtype: object"
      ]
     },
     "execution_count": 10,
     "metadata": {},
     "output_type": "execute_result"
    }
   ],
   "source": [
    "df[df['Marks']>90]['Name']"
   ]
  },
  {
   "cell_type": "markdown",
   "id": "3d2f04b6",
   "metadata": {},
   "source": [
    "#### 5. Name of the students having \"AB\" Grades"
   ]
  },
  {
   "cell_type": "code",
   "execution_count": 11,
   "id": "65414875",
   "metadata": {
    "scrolled": true
   },
   "outputs": [
    {
     "data": {
      "text/plain": [
       "stu2    Queen\n",
       "Name: Name, dtype: object"
      ]
     },
     "execution_count": 11,
     "metadata": {},
     "output_type": "execute_result"
    }
   ],
   "source": [
    "df[df['Grades']==\"AB\"]['Name']"
   ]
  },
  {
   "cell_type": "markdown",
   "id": "12d4e436",
   "metadata": {},
   "source": [
    "## Exercises"
   ]
  },
  {
   "cell_type": "markdown",
   "id": "ad62c948",
   "metadata": {},
   "source": [
    "#### loc:Access a group of rows and columns by label(s) or a boolean array\n",
    "\n",
    "#### 6. Students having marks greater than 90[loc]"
   ]
  },
  {
   "cell_type": "code",
   "execution_count": 17,
   "id": "029f13f4",
   "metadata": {},
   "outputs": [
    {
     "data": {
      "text/html": [
       "<div>\n",
       "<style scoped>\n",
       "    .dataframe tbody tr th:only-of-type {\n",
       "        vertical-align: middle;\n",
       "    }\n",
       "\n",
       "    .dataframe tbody tr th {\n",
       "        vertical-align: top;\n",
       "    }\n",
       "\n",
       "    .dataframe thead th {\n",
       "        text-align: right;\n",
       "    }\n",
       "</style>\n",
       "<table border=\"1\" class=\"dataframe\">\n",
       "  <thead>\n",
       "    <tr style=\"text-align: right;\">\n",
       "      <th></th>\n",
       "      <th>Name</th>\n",
       "      <th>Marks</th>\n",
       "      <th>Grades</th>\n",
       "    </tr>\n",
       "  </thead>\n",
       "  <tbody>\n",
       "    <tr>\n",
       "      <th>stu6</th>\n",
       "      <td>William</td>\n",
       "      <td>98</td>\n",
       "      <td>AA</td>\n",
       "    </tr>\n",
       "  </tbody>\n",
       "</table>\n",
       "</div>"
      ],
      "text/plain": [
       "         Name  Marks Grades\n",
       "stu6  William     98     AA"
      ]
     },
     "execution_count": 17,
     "metadata": {},
     "output_type": "execute_result"
    }
   ],
   "source": [
    "df.loc[df['Marks']>90]"
   ]
  },
  {
   "cell_type": "markdown",
   "id": "72056f97",
   "metadata": {},
   "source": [
    "#### 7.Students having Marks greater than 80 and having \"AB\" Grade [loc]"
   ]
  },
  {
   "cell_type": "code",
   "execution_count": 19,
   "id": "68323cde",
   "metadata": {},
   "outputs": [
    {
     "data": {
      "text/html": [
       "<div>\n",
       "<style scoped>\n",
       "    .dataframe tbody tr th:only-of-type {\n",
       "        vertical-align: middle;\n",
       "    }\n",
       "\n",
       "    .dataframe tbody tr th {\n",
       "        vertical-align: top;\n",
       "    }\n",
       "\n",
       "    .dataframe thead th {\n",
       "        text-align: right;\n",
       "    }\n",
       "</style>\n",
       "<table border=\"1\" class=\"dataframe\">\n",
       "  <thead>\n",
       "    <tr style=\"text-align: right;\">\n",
       "      <th></th>\n",
       "      <th>Name</th>\n",
       "      <th>Marks</th>\n",
       "      <th>Grades</th>\n",
       "    </tr>\n",
       "  </thead>\n",
       "  <tbody>\n",
       "    <tr>\n",
       "      <th>stu2</th>\n",
       "      <td>Queen</td>\n",
       "      <td>89</td>\n",
       "      <td>AB</td>\n",
       "    </tr>\n",
       "  </tbody>\n",
       "</table>\n",
       "</div>"
      ],
      "text/plain": [
       "       Name  Marks Grades\n",
       "stu2  Queen     89     AB"
      ]
     },
     "execution_count": 19,
     "metadata": {},
     "output_type": "execute_result"
    }
   ],
   "source": [
    "df.loc[(df['Marks']>80) & (df['Grades']==\"AB\")]"
   ]
  },
  {
   "cell_type": "markdown",
   "id": "23ab9086",
   "metadata": {},
   "source": [
    "#### 8.Studens having marks greater than 90 [iloc]"
   ]
  },
  {
   "cell_type": "code",
   "execution_count": 21,
   "id": "634aa475",
   "metadata": {},
   "outputs": [
    {
     "data": {
      "text/html": [
       "<div>\n",
       "<style scoped>\n",
       "    .dataframe tbody tr th:only-of-type {\n",
       "        vertical-align: middle;\n",
       "    }\n",
       "\n",
       "    .dataframe tbody tr th {\n",
       "        vertical-align: top;\n",
       "    }\n",
       "\n",
       "    .dataframe thead th {\n",
       "        text-align: right;\n",
       "    }\n",
       "</style>\n",
       "<table border=\"1\" class=\"dataframe\">\n",
       "  <thead>\n",
       "    <tr style=\"text-align: right;\">\n",
       "      <th></th>\n",
       "      <th>Name</th>\n",
       "      <th>Marks</th>\n",
       "      <th>Grades</th>\n",
       "    </tr>\n",
       "  </thead>\n",
       "  <tbody>\n",
       "    <tr>\n",
       "      <th>stu6</th>\n",
       "      <td>William</td>\n",
       "      <td>98</td>\n",
       "      <td>AA</td>\n",
       "    </tr>\n",
       "  </tbody>\n",
       "</table>\n",
       "</div>"
      ],
      "text/plain": [
       "         Name  Marks Grades\n",
       "stu6  William     98     AA"
      ]
     },
     "execution_count": 21,
     "metadata": {},
     "output_type": "execute_result"
    }
   ],
   "source": [
    "df[df.iloc[:,1]>90]"
   ]
  },
  {
   "cell_type": "markdown",
   "id": "8e43b237",
   "metadata": {},
   "source": [
    "#### 9. Students having Marks greater than 80 and having \"AB\" Grade [iloc]"
   ]
  },
  {
   "cell_type": "code",
   "execution_count": 22,
   "id": "81cb317b",
   "metadata": {
    "scrolled": true
   },
   "outputs": [
    {
     "data": {
      "text/html": [
       "<div>\n",
       "<style scoped>\n",
       "    .dataframe tbody tr th:only-of-type {\n",
       "        vertical-align: middle;\n",
       "    }\n",
       "\n",
       "    .dataframe tbody tr th {\n",
       "        vertical-align: top;\n",
       "    }\n",
       "\n",
       "    .dataframe thead th {\n",
       "        text-align: right;\n",
       "    }\n",
       "</style>\n",
       "<table border=\"1\" class=\"dataframe\">\n",
       "  <thead>\n",
       "    <tr style=\"text-align: right;\">\n",
       "      <th></th>\n",
       "      <th>Name</th>\n",
       "      <th>Marks</th>\n",
       "      <th>Grades</th>\n",
       "    </tr>\n",
       "  </thead>\n",
       "  <tbody>\n",
       "    <tr>\n",
       "      <th>stu2</th>\n",
       "      <td>Queen</td>\n",
       "      <td>89</td>\n",
       "      <td>AB</td>\n",
       "    </tr>\n",
       "  </tbody>\n",
       "</table>\n",
       "</div>"
      ],
      "text/plain": [
       "       Name  Marks Grades\n",
       "stu2  Queen     89     AB"
      ]
     },
     "execution_count": 22,
     "metadata": {},
     "output_type": "execute_result"
    }
   ],
   "source": [
    "df[(df.iloc[:,1]>80) & (df.iloc[:,2]==\"AB\")]"
   ]
  },
  {
   "cell_type": "markdown",
   "id": "7dd27443",
   "metadata": {},
   "source": [
    "#### 10. Name of the students having \"AB\" Grade [iloc]"
   ]
  },
  {
   "cell_type": "code",
   "execution_count": 23,
   "id": "fc4e2662",
   "metadata": {
    "scrolled": true
   },
   "outputs": [
    {
     "data": {
      "text/plain": [
       "stu2    Queen\n",
       "Name: Name, dtype: object"
      ]
     },
     "execution_count": 23,
     "metadata": {},
     "output_type": "execute_result"
    }
   ],
   "source": [
    "df[df.iloc[:,2]==\"AB\"]['Name']"
   ]
  },
  {
   "cell_type": "code",
   "execution_count": null,
   "id": "19975288",
   "metadata": {},
   "outputs": [],
   "source": []
  }
 ],
 "metadata": {
  "kernelspec": {
   "display_name": "Python 3 (ipykernel)",
   "language": "python",
   "name": "python3"
  },
  "language_info": {
   "codemirror_mode": {
    "name": "ipython",
    "version": 3
   },
   "file_extension": ".py",
   "mimetype": "text/x-python",
   "name": "python",
   "nbconvert_exporter": "python",
   "pygments_lexer": "ipython3",
   "version": "3.9.12"
  }
 },
 "nbformat": 4,
 "nbformat_minor": 5
}
