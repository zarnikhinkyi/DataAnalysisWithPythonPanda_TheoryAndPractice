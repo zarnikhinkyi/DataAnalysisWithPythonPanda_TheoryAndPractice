{
 "cells": [
  {
   "cell_type": "markdown",
   "id": "ecbfe15b",
   "metadata": {},
   "source": [
    "# Pandas Series\n",
    "1. Pandas (Series using List with indexs)\n",
    "2. Pandas (Series using List with dtype)\n",
    "3. Accessing the data from series\n",
    "4. Operations on Pandas Series"
   ]
  },
  {
   "cell_type": "markdown",
   "id": "d38118fd",
   "metadata": {},
   "source": [
    "### 1. Pandas (Series using List with indexs)"
   ]
  },
  {
   "cell_type": "code",
   "execution_count": 1,
   "id": "a7e05ffd",
   "metadata": {},
   "outputs": [],
   "source": [
    "# 1_Pandas (Serires using List with indexs)\n",
    "import numpy as np\n",
    "import pandas as pd"
   ]
  },
  {
   "cell_type": "code",
   "execution_count": 4,
   "id": "f40259e4",
   "metadata": {
    "scrolled": true
   },
   "outputs": [
    {
     "data": {
      "text/plain": [
       "a    11\n",
       "b    22\n",
       "c    33\n",
       "d    44\n",
       "e    55\n",
       "dtype: int64"
      ]
     },
     "execution_count": 4,
     "metadata": {},
     "output_type": "execute_result"
    }
   ],
   "source": [
    "list1=[11,22,33,44,55]\n",
    "ps1=pd.Series(list1,index=['a','b','c','d','e'])\n",
    "#print(ps1)\n",
    "ps1"
   ]
  },
  {
   "cell_type": "markdown",
   "id": "08b3861f",
   "metadata": {},
   "source": [
    "### 2. Pandas (Series using List with dtype)"
   ]
  },
  {
   "cell_type": "code",
   "execution_count": 10,
   "id": "dc3a76b5",
   "metadata": {
    "scrolled": true
   },
   "outputs": [
    {
     "data": {
      "text/plain": [
       "a    11.0\n",
       "b    22.0\n",
       "c    33.0\n",
       "d    44.0\n",
       "e    55.0\n",
       "dtype: float64"
      ]
     },
     "execution_count": 10,
     "metadata": {},
     "output_type": "execute_result"
    }
   ],
   "source": [
    "# 2_Pandas (Series using List with dtype)\n",
    "\n",
    "import pandas as pd\n",
    "list1=[11,22,33,44,55]\n",
    "ps1=pd.Series([11,22,33,44,55],index=['a','b','c','d','e'],dtype='float')\n",
    "ps1"
   ]
  },
  {
   "cell_type": "markdown",
   "id": "6e33bc2d",
   "metadata": {},
   "source": [
    "### 3. Accessing the data from series"
   ]
  },
  {
   "cell_type": "code",
   "execution_count": 12,
   "id": "1383b11d",
   "metadata": {},
   "outputs": [
    {
     "data": {
      "text/plain": [
       "11"
      ]
     },
     "execution_count": 12,
     "metadata": {},
     "output_type": "execute_result"
    }
   ],
   "source": [
    "# 3_Accessing the data from series\n",
    "\n",
    "import pandas as pd\n",
    "\n",
    "list1=[11,22,33,44,55]\n",
    "s1=pd.Series([11,22,33,44,55])\n",
    "s1[0] ## value at index '0' will execue >> 11"
   ]
  },
  {
   "cell_type": "code",
   "execution_count": 14,
   "id": "213c495e",
   "metadata": {
    "scrolled": true
   },
   "outputs": [
    {
     "data": {
      "text/plain": [
       "0    11\n",
       "1    22\n",
       "2    33\n",
       "dtype: int64"
      ]
     },
     "execution_count": 14,
     "metadata": {},
     "output_type": "execute_result"
    }
   ],
   "source": [
    "s1[0:3] # execue inclusive of index 0 and execlusive of index 3 (index 0 1 2 ) >> 11 22 33"
   ]
  },
  {
   "cell_type": "markdown",
   "id": "1cff2c63",
   "metadata": {},
   "source": [
    "### 4. Operations on Pandas Series"
   ]
  },
  {
   "cell_type": "code",
   "execution_count": 16,
   "id": "3015ddad",
   "metadata": {},
   "outputs": [
    {
     "data": {
      "text/plain": [
       "0    11\n",
       "1    22\n",
       "2    33\n",
       "3    44\n",
       "4    55\n",
       "dtype: int64"
      ]
     },
     "execution_count": 16,
     "metadata": {},
     "output_type": "execute_result"
    }
   ],
   "source": [
    "# 4_Operation on Pandas Series\n",
    "import pandas as pd\n",
    "sr1 =pd.Series([1,2,3,4,5])\n",
    "sr2 =pd.Series([10,20,30,40,50])\n",
    "sr1+sr2"
   ]
  },
  {
   "cell_type": "code",
   "execution_count": 17,
   "id": "f46510c9",
   "metadata": {},
   "outputs": [
    {
     "data": {
      "text/plain": [
       "0     10\n",
       "1     40\n",
       "2     90\n",
       "3    160\n",
       "4    250\n",
       "dtype: int64"
      ]
     },
     "execution_count": 17,
     "metadata": {},
     "output_type": "execute_result"
    }
   ],
   "source": [
    "sr1*sr2"
   ]
  },
  {
   "cell_type": "code",
   "execution_count": 18,
   "id": "893d2622",
   "metadata": {},
   "outputs": [
    {
     "data": {
      "text/plain": [
       "0    0.1\n",
       "1    0.1\n",
       "2    0.1\n",
       "3    0.1\n",
       "4    0.1\n",
       "dtype: float64"
      ]
     },
     "execution_count": 18,
     "metadata": {},
     "output_type": "execute_result"
    }
   ],
   "source": [
    "sr1/sr2"
   ]
  },
  {
   "cell_type": "code",
   "execution_count": 19,
   "id": "f8fe97d5",
   "metadata": {
    "scrolled": true
   },
   "outputs": [
    {
     "data": {
      "text/plain": [
       "0     121\n",
       "1     484\n",
       "2    1089\n",
       "3    1936\n",
       "4    3025\n",
       "dtype: int64"
      ]
     },
     "execution_count": 19,
     "metadata": {},
     "output_type": "execute_result"
    }
   ],
   "source": [
    "(sr1+sr2)**2"
   ]
  },
  {
   "cell_type": "markdown",
   "id": "f1f65232",
   "metadata": {},
   "source": [
    "### Exercises"
   ]
  },
  {
   "cell_type": "code",
   "execution_count": 23,
   "id": "af7be318",
   "metadata": {},
   "outputs": [
    {
     "data": {
      "text/plain": [
       "0    1\n",
       "1    2\n",
       "2    3\n",
       "3    4\n",
       "dtype: int64"
      ]
     },
     "execution_count": 23,
     "metadata": {},
     "output_type": "execute_result"
    }
   ],
   "source": [
    "import pandas as pd\n",
    "\n",
    "sr1 = pd.Series([1,2,3,4])\n",
    "sr2 = pd.Series([10,20,30,40])\n",
    "\n",
    "#sr1//sr2\n",
    "sr1\n"
   ]
  },
  {
   "cell_type": "code",
   "execution_count": 24,
   "id": "bd50f106",
   "metadata": {},
   "outputs": [
    {
     "data": {
      "text/plain": [
       "0    10\n",
       "1    20\n",
       "2    30\n",
       "3    40\n",
       "dtype: int64"
      ]
     },
     "execution_count": 24,
     "metadata": {},
     "output_type": "execute_result"
    }
   ],
   "source": [
    "sr2"
   ]
  },
  {
   "cell_type": "code",
   "execution_count": 25,
   "id": "d7bedc04",
   "metadata": {},
   "outputs": [
    {
     "data": {
      "text/plain": [
       "0    0\n",
       "1    0\n",
       "2    0\n",
       "3    0\n",
       "dtype: int64"
      ]
     },
     "execution_count": 25,
     "metadata": {},
     "output_type": "execute_result"
    }
   ],
   "source": [
    "sr1//sr2"
   ]
  },
  {
   "cell_type": "code",
   "execution_count": 26,
   "id": "e6b49689",
   "metadata": {},
   "outputs": [
    {
     "data": {
      "text/plain": [
       "0    0.1\n",
       "1    0.1\n",
       "2    0.1\n",
       "3    0.1\n",
       "dtype: float64"
      ]
     },
     "execution_count": 26,
     "metadata": {},
     "output_type": "execute_result"
    }
   ],
   "source": [
    "sr1/sr2"
   ]
  },
  {
   "cell_type": "code",
   "execution_count": null,
   "id": "4ae07697",
   "metadata": {},
   "outputs": [],
   "source": []
  }
 ],
 "metadata": {
  "kernelspec": {
   "display_name": "Python 3 (ipykernel)",
   "language": "python",
   "name": "python3"
  },
  "language_info": {
   "codemirror_mode": {
    "name": "ipython",
    "version": 3
   },
   "file_extension": ".py",
   "mimetype": "text/x-python",
   "name": "python",
   "nbconvert_exporter": "python",
   "pygments_lexer": "ipython3",
   "version": "3.9.12"
  }
 },
 "nbformat": 4,
 "nbformat_minor": 5
}
